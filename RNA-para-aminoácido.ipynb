{
 "cells": [
  {
   "cell_type": "code",
   "execution_count": 3,
   "metadata": {},
   "outputs": [],
   "source": [
    "dic = {\n",
    "    'UUU' : 'F',      \n",
    "    'CUU' : 'L',      \n",
    "    'AUU' : 'I',      \n",
    "    'GUU' : 'V',\n",
    "    'UUC' : 'F',      \n",
    "    'CUC' : 'L',      \n",
    "    'AUC' : 'I',      \n",
    "    'GUC' : 'V',\n",
    "    'UUA' : 'L',      \n",
    "    'CUA' : 'L',      \n",
    "    'AUA' : 'I',      \n",
    "    'GUA' : 'V',\n",
    "    'UUG' : 'L',      \n",
    "    'CUG' : 'L',      \n",
    "    'AUG' : 'M',      \n",
    "    'GUG' : 'V',\n",
    "    'UCU' : 'S',      \n",
    "    'CCU' : 'P',      \n",
    "    'ACU' : 'T',      \n",
    "    'GCU' : 'A',\n",
    "    'UCC' : 'S',      \n",
    "    'CCC' : 'P',      \n",
    "    'ACC' : 'T',      \n",
    "    'GCC' : 'A',\n",
    "    'UCA' : 'S',      \n",
    "    'CCA' : 'P',      \n",
    "    'ACA' : 'T',      \n",
    "    'GCA' : 'A',\n",
    "    'UCG' : 'S',      \n",
    "    'CCG' : 'P',      \n",
    "    'ACG' : 'T',      \n",
    "    'GCG' : 'A',\n",
    "    'UAU' : 'Y',      \n",
    "    'CAU' : 'H',      \n",
    "    'AAU' : 'N',      \n",
    "    'GAU' : 'D',\n",
    "    'UAC' : 'Y',      \n",
    "    'CAC' : 'H',      \n",
    "    'AAC' : 'N',      \n",
    "    'GAC' : 'D',\n",
    "    'UAA' : 'Stop',   \n",
    "    'CAA' : 'Q',      \n",
    "    'AAA' : 'K',      \n",
    "    'GAA' : 'E',\n",
    "    'UAG' : 'Stop',   \n",
    "    'CAG' : 'Q',      \n",
    "    'AAG' : 'K',      \n",
    "    'GAG' : 'E',\n",
    "    'UGU' : 'C',      \n",
    "    'CGU' : 'R',      \n",
    "    'AGU' : 'S',      \n",
    "    'GGU' : 'G',\n",
    "    'UGC' : 'C',      \n",
    "    'CGC' : 'R',      \n",
    "    'AGC' : 'S',      \n",
    "    'GGC' : 'G',\n",
    "    'UGA' : 'Stop',   \n",
    "    'CGA' : 'R',      \n",
    "    'AGA' : 'R',      \n",
    "    'GGA' : 'G',\n",
    "    'UGG' : 'W',      \n",
    "    'CGG' : 'R',      \n",
    "    'AGG' : 'R',      \n",
    "    'GGG' : 'G',\n",
    "}"
   ]
  },
  {
   "cell_type": "code",
   "execution_count": 17,
   "metadata": {},
   "outputs": [],
   "source": [
    "RNA = 'AUGGCCAUGGCGCCCAGAACUGAGAUCAAUAGUACCCGUAUUAACGGUUGA'"
   ]
  },
  {
   "cell_type": "code",
   "execution_count": 38,
   "metadata": {},
   "outputs": [],
   "source": [
    "def trans(rna):\n",
    "    protein = ''\n",
    "    for i in range(0, len(rna), 3):\n",
    "        if dic[rna[i:i+3]] != 'Stop':\n",
    "            protein += dic[rna[i:i+3]]\n",
    "    return protein"
   ]
  },
  {
   "cell_type": "code",
   "execution_count": 39,
   "metadata": {},
   "outputs": [
    {
     "data": {
      "text/plain": [
       "'MAMAPRTEINSTRING'"
      ]
     },
     "execution_count": 39,
     "metadata": {},
     "output_type": "execute_result"
    }
   ],
   "source": [
    "trans(RNA)"
   ]
  },
  {
   "cell_type": "code",
   "execution_count": null,
   "metadata": {},
   "outputs": [],
   "source": []
  },
  {
   "cell_type": "raw",
   "metadata": {},
   "source": []
  }
 ],
 "metadata": {
  "kernelspec": {
   "display_name": "Python 3",
   "language": "python",
   "name": "python3"
  },
  "language_info": {
   "codemirror_mode": {
    "name": "ipython",
    "version": 3
   },
   "file_extension": ".py",
   "mimetype": "text/x-python",
   "name": "python",
   "nbconvert_exporter": "python",
   "pygments_lexer": "ipython3",
   "version": "3.8.2"
  }
 },
 "nbformat": 4,
 "nbformat_minor": 4
}
